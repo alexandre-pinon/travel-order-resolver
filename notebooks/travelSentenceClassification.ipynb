{
 "cells": [
  {
   "cell_type": "markdown",
   "id": "4e4352fd",
   "metadata": {},
   "source": [
    "# Imports"
   ]
  },
  {
   "cell_type": "code",
   "execution_count": 1,
   "id": "11d5ab8a",
   "metadata": {},
   "outputs": [],
   "source": [
    "import pandas as pd\n",
    "import numpy as np\n",
    "from sklearn.feature_extraction.text import CountVectorizer\n",
    "from sklearn.naive_bayes import MultinomialNB"
   ]
  },
  {
   "cell_type": "markdown",
   "id": "de761b94",
   "metadata": {},
   "source": [
    "# Datasets"
   ]
  },
  {
   "cell_type": "code",
   "execution_count": 2,
   "id": "1cfb750c",
   "metadata": {},
   "outputs": [],
   "source": [
    "TRAVEL_SENTENCES_TYPE = \"TRAVEL\"\n",
    "FAKE_SENTENCES_TYPE = \"FAKE\"\n",
    "\n",
    "travel_sentences = pd.read_csv('../data/travel_order_data.csv', header=None, names=([TRAVEL_SENTENCES_TYPE]))\n",
    "fake_sentences = pd.read_csv('../data/random_sentence_wikipedia.csv',usecols=[0], header=None, names=([FAKE_SENTENCES_TYPE]))"
   ]
  },
  {
   "cell_type": "code",
   "execution_count": 3,
   "id": "da6207c0",
   "metadata": {},
   "outputs": [
    {
     "data": {
      "text/html": [
       "<div>\n",
       "<style scoped>\n",
       "    .dataframe tbody tr th:only-of-type {\n",
       "        vertical-align: middle;\n",
       "    }\n",
       "\n",
       "    .dataframe tbody tr th {\n",
       "        vertical-align: top;\n",
       "    }\n",
       "\n",
       "    .dataframe thead th {\n",
       "        text-align: right;\n",
       "    }\n",
       "</style>\n",
       "<table border=\"1\" class=\"dataframe\">\n",
       "  <thead>\n",
       "    <tr style=\"text-align: right;\">\n",
       "      <th></th>\n",
       "      <th>TRAVEL</th>\n",
       "    </tr>\n",
       "  </thead>\n",
       "  <tbody>\n",
       "    <tr>\n",
       "      <th>0</th>\n",
       "      <td>Je veux savoir comment aller à {{ARRIVAL}} dep...</td>\n",
       "    </tr>\n",
       "    <tr>\n",
       "      <th>1</th>\n",
       "      <td>Je veux savoir comment aller à {{ARRIVAL}} en ...</td>\n",
       "    </tr>\n",
       "    <tr>\n",
       "      <th>2</th>\n",
       "      <td>Je veux savoir comment aller vers {{ARRIVAL}} ...</td>\n",
       "    </tr>\n",
       "    <tr>\n",
       "      <th>3</th>\n",
       "      <td>Je veux savoir comment aller vers {{ARRIVAL}} ...</td>\n",
       "    </tr>\n",
       "    <tr>\n",
       "      <th>4</th>\n",
       "      <td>Je veux savoir comment arriver à {{ARRIVAL}} d...</td>\n",
       "    </tr>\n",
       "  </tbody>\n",
       "</table>\n",
       "</div>"
      ],
      "text/plain": [
       "                                              TRAVEL\n",
       "0  Je veux savoir comment aller à {{ARRIVAL}} dep...\n",
       "1  Je veux savoir comment aller à {{ARRIVAL}} en ...\n",
       "2  Je veux savoir comment aller vers {{ARRIVAL}} ...\n",
       "3  Je veux savoir comment aller vers {{ARRIVAL}} ...\n",
       "4  Je veux savoir comment arriver à {{ARRIVAL}} d..."
      ]
     },
     "execution_count": 3,
     "metadata": {},
     "output_type": "execute_result"
    }
   ],
   "source": [
    "travel_sentences.head()"
   ]
  },
  {
   "cell_type": "code",
   "execution_count": 4,
   "id": "3a783dbb",
   "metadata": {},
   "outputs": [
    {
     "data": {
      "text/html": [
       "<div>\n",
       "<style scoped>\n",
       "    .dataframe tbody tr th:only-of-type {\n",
       "        vertical-align: middle;\n",
       "    }\n",
       "\n",
       "    .dataframe tbody tr th {\n",
       "        vertical-align: top;\n",
       "    }\n",
       "\n",
       "    .dataframe thead th {\n",
       "        text-align: right;\n",
       "    }\n",
       "</style>\n",
       "<table border=\"1\" class=\"dataframe\">\n",
       "  <thead>\n",
       "    <tr style=\"text-align: right;\">\n",
       "      <th></th>\n",
       "      <th>FAKE</th>\n",
       "    </tr>\n",
       "  </thead>\n",
       "  <tbody>\n",
       "    <tr>\n",
       "      <th>0</th>\n",
       "      <td>Pour les articles homonymes voir Castex</td>\n",
       "    </tr>\n",
       "    <tr>\n",
       "      <th>1</th>\n",
       "      <td>Castex en occitan Castèths est une commune fra...</td>\n",
       "    </tr>\n",
       "    <tr>\n",
       "      <th>2</th>\n",
       "      <td>Sur le plan historique et culturel la commune...</td>\n",
       "    </tr>\n",
       "    <tr>\n",
       "      <th>3</th>\n",
       "      <td>Exposée à un climat océanique altéré elle est...</td>\n",
       "    </tr>\n",
       "    <tr>\n",
       "      <th>4</th>\n",
       "      <td>Castex est une commune rurale qui compte 93 h...</td>\n",
       "    </tr>\n",
       "  </tbody>\n",
       "</table>\n",
       "</div>"
      ],
      "text/plain": [
       "                                                FAKE\n",
       "0            Pour les articles homonymes voir Castex\n",
       "1  Castex en occitan Castèths est une commune fra...\n",
       "2   Sur le plan historique et culturel la commune...\n",
       "3   Exposée à un climat océanique altéré elle est...\n",
       "4   Castex est une commune rurale qui compte 93 h..."
      ]
     },
     "execution_count": 4,
     "metadata": {},
     "output_type": "execute_result"
    }
   ],
   "source": [
    "fake_sentences.head()"
   ]
  },
  {
   "cell_type": "code",
   "execution_count": 5,
   "id": "098604ef",
   "metadata": {},
   "outputs": [
    {
     "name": "stdout",
     "output_type": "stream",
     "text": [
      "Je veux savoir comment me rendre vers {{ARRIVAL}} en partant de {{DEPARTURE}}\n"
     ]
    }
   ],
   "source": [
    "print(travel_sentences['TRAVEL'].iloc[19])"
   ]
  },
  {
   "cell_type": "code",
   "execution_count": 6,
   "id": "8e609071",
   "metadata": {},
   "outputs": [
    {
     "name": "stdout",
     "output_type": "stream",
     "text": [
      "  Laltitude du territoire varie entre 248 m et 394 m\n"
     ]
    }
   ],
   "source": [
    "print(fake_sentences['FAKE'].iloc[19])"
   ]
  },
  {
   "cell_type": "code",
   "execution_count": 7,
   "id": "65c1dee8",
   "metadata": {},
   "outputs": [],
   "source": [
    "def addLabel(pd, label):\n",
    "    for index, row in pd.iterrows():\n",
    "        X.append(row[label])\n",
    "        Y.append(label)"
   ]
  },
  {
   "cell_type": "code",
   "execution_count": 8,
   "id": "591d450e",
   "metadata": {},
   "outputs": [],
   "source": [
    "X = []\n",
    "Y = []\n",
    "\n",
    "addLabel(travel_sentences, TRAVEL_SENTENCES_TYPE)\n",
    "addLabel(fake_sentences, FAKE_SENTENCES_TYPE)"
   ]
  },
  {
   "cell_type": "code",
   "execution_count": 9,
   "id": "f3cca23d",
   "metadata": {},
   "outputs": [
    {
     "name": "stdout",
     "output_type": "stream",
     "text": [
      "Je veux savoir comment aller à {{ARRIVAL}} en partant de {{DEPARTURE}}\n",
      " Begović est en outre accusé davoir participé à des passages à tabac avec dautres gardes qui ont causé la mort de plusieurs détenus\n",
      "105618\n"
     ]
    }
   ],
   "source": [
    "print(X[1])\n",
    "print(X[-1])\n",
    "print(len(X))"
   ]
  },
  {
   "cell_type": "code",
   "execution_count": 10,
   "id": "1eba12fe",
   "metadata": {},
   "outputs": [
    {
     "name": "stdout",
     "output_type": "stream",
     "text": [
      "TRAVEL\n",
      "FAKE\n",
      "105618\n"
     ]
    }
   ],
   "source": [
    "print(Y[1])\n",
    "print(Y[-1])\n",
    "print(len(Y))"
   ]
  },
  {
   "cell_type": "code",
   "execution_count": null,
   "id": "600ebac7",
   "metadata": {},
   "outputs": [],
   "source": []
  },
  {
   "cell_type": "code",
   "execution_count": 11,
   "id": "4ca77ab0",
   "metadata": {},
   "outputs": [],
   "source": []
  },
  {
   "cell_type": "code",
   "execution_count": 12,
   "id": "2d00c933",
   "metadata": {},
   "outputs": [],
   "source": [
    "training_set = pd.DataFrame({'X': X, 'Y': Y})\n",
    "\n",
    "vectorizer = CountVectorizer()\n",
    " \n",
    "counts = vectorizer.fit_transform(training_set['X'].values)"
   ]
  },
  {
   "cell_type": "code",
   "execution_count": 13,
   "id": "3e7bff07",
   "metadata": {},
   "outputs": [
    {
     "data": {
      "text/plain": [
       "MultinomialNB()"
      ]
     },
     "execution_count": 13,
     "metadata": {},
     "output_type": "execute_result"
    }
   ],
   "source": [
    "classifier = MultinomialNB()\n",
    "targets = training_set['Y'].values\n",
    "classifier.fit(counts, targets)\n"
   ]
  },
  {
   "cell_type": "code",
   "execution_count": null,
   "id": "4af40519",
   "metadata": {},
   "outputs": [],
   "source": []
  },
  {
   "cell_type": "code",
   "execution_count": 18,
   "id": "0164354c",
   "metadata": {},
   "outputs": [
    {
     "name": "stdout",
     "output_type": "stream",
     "text": [
      "['TRAVEL' 'FAKE']\n"
     ]
    }
   ],
   "source": [
    "examples = ['Je veux savoir comment aller à {{ARRIVAL}} en partant de {{DEPARTURE}}', \"Je veux manger du fromage\"]\n",
    "example_counts = vectorizer.transform(examples)\n",
    "predictions = classifier.predict(example_counts)\n",
    "print(predictions)"
   ]
  },
  {
   "cell_type": "code",
   "execution_count": null,
   "id": "82c282ee",
   "metadata": {},
   "outputs": [],
   "source": []
  },
  {
   "cell_type": "code",
   "execution_count": null,
   "id": "5e9b5a86",
   "metadata": {},
   "outputs": [],
   "source": []
  }
 ],
 "metadata": {
  "kernelspec": {
   "display_name": "Python 3 (ipykernel)",
   "language": "python",
   "name": "python3"
  },
  "language_info": {
   "codemirror_mode": {
    "name": "ipython",
    "version": 3
   },
   "file_extension": ".py",
   "mimetype": "text/x-python",
   "name": "python",
   "nbconvert_exporter": "python",
   "pygments_lexer": "ipython3",
   "version": "3.9.12"
  }
 },
 "nbformat": 4,
 "nbformat_minor": 5
}
