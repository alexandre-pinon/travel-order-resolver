{
 "cells": [
  {
   "cell_type": "markdown",
   "id": "4e4352fd",
   "metadata": {},
   "source": [
    "# Imports"
   ]
  },
  {
   "cell_type": "code",
   "execution_count": 1,
   "id": "11d5ab8a",
   "metadata": {},
   "outputs": [],
   "source": [
    "import pandas as pd\n",
    "import numpy as np\n",
    "from sklearn.feature_extraction.text import CountVectorizer\n",
    "from sklearn.naive_bayes import MultinomialNB\n",
    "from sklearn.model_selection import train_test_split\n",
    "from sklearn import metrics\n",
    "from sklearn.metrics import accuracy_score\n",
    "from sklearn.metrics import plot_confusion_matrix\n",
    "import matplotlib.pyplot as plt\n",
    "from sklearn.metrics import ConfusionMatrixDisplay"
   ]
  },
  {
   "cell_type": "markdown",
   "id": "de761b94",
   "metadata": {},
   "source": [
    "# Datasets"
   ]
  },
  {
   "cell_type": "code",
   "execution_count": 2,
   "id": "1cfb750c",
   "metadata": {},
   "outputs": [],
   "source": [
    "TRAVEL_SENTENCES_TYPE = \"TRAVEL\"\n",
    "FAKE_SENTENCES_TYPE = \"FAKE\"\n",
    "\n",
    "travel_sentences = pd.read_csv('../data/travel_order_data.csv', header=None, names=([TRAVEL_SENTENCES_TYPE]))\n",
    "fake_sentences = pd.read_csv('../data/random_sentence_wikipedia.csv',usecols=[0], header=None, names=([FAKE_SENTENCES_TYPE]))"
   ]
  },
  {
   "cell_type": "code",
   "execution_count": 3,
   "id": "da6207c0",
   "metadata": {},
   "outputs": [
    {
     "data": {
      "text/html": [
       "<div>\n",
       "<style scoped>\n",
       "    .dataframe tbody tr th:only-of-type {\n",
       "        vertical-align: middle;\n",
       "    }\n",
       "\n",
       "    .dataframe tbody tr th {\n",
       "        vertical-align: top;\n",
       "    }\n",
       "\n",
       "    .dataframe thead th {\n",
       "        text-align: right;\n",
       "    }\n",
       "</style>\n",
       "<table border=\"1\" class=\"dataframe\">\n",
       "  <thead>\n",
       "    <tr style=\"text-align: right;\">\n",
       "      <th></th>\n",
       "      <th>TRAVEL</th>\n",
       "    </tr>\n",
       "  </thead>\n",
       "  <tbody>\n",
       "    <tr>\n",
       "      <th>0</th>\n",
       "      <td>Je veux savoir comment aller à {{ARRIVAL}} dep...</td>\n",
       "    </tr>\n",
       "    <tr>\n",
       "      <th>1</th>\n",
       "      <td>Je veux savoir comment aller à {{ARRIVAL}} en ...</td>\n",
       "    </tr>\n",
       "    <tr>\n",
       "      <th>2</th>\n",
       "      <td>Je veux savoir comment aller vers {{ARRIVAL}} ...</td>\n",
       "    </tr>\n",
       "    <tr>\n",
       "      <th>3</th>\n",
       "      <td>Je veux savoir comment aller vers {{ARRIVAL}} ...</td>\n",
       "    </tr>\n",
       "    <tr>\n",
       "      <th>4</th>\n",
       "      <td>Je veux savoir comment arriver à {{ARRIVAL}} d...</td>\n",
       "    </tr>\n",
       "  </tbody>\n",
       "</table>\n",
       "</div>"
      ],
      "text/plain": [
       "                                              TRAVEL\n",
       "0  Je veux savoir comment aller à {{ARRIVAL}} dep...\n",
       "1  Je veux savoir comment aller à {{ARRIVAL}} en ...\n",
       "2  Je veux savoir comment aller vers {{ARRIVAL}} ...\n",
       "3  Je veux savoir comment aller vers {{ARRIVAL}} ...\n",
       "4  Je veux savoir comment arriver à {{ARRIVAL}} d..."
      ]
     },
     "execution_count": 3,
     "metadata": {},
     "output_type": "execute_result"
    }
   ],
   "source": [
    "travel_sentences.head()"
   ]
  },
  {
   "cell_type": "code",
   "execution_count": 4,
   "id": "3a783dbb",
   "metadata": {},
   "outputs": [
    {
     "data": {
      "text/html": [
       "<div>\n",
       "<style scoped>\n",
       "    .dataframe tbody tr th:only-of-type {\n",
       "        vertical-align: middle;\n",
       "    }\n",
       "\n",
       "    .dataframe tbody tr th {\n",
       "        vertical-align: top;\n",
       "    }\n",
       "\n",
       "    .dataframe thead th {\n",
       "        text-align: right;\n",
       "    }\n",
       "</style>\n",
       "<table border=\"1\" class=\"dataframe\">\n",
       "  <thead>\n",
       "    <tr style=\"text-align: right;\">\n",
       "      <th></th>\n",
       "      <th>FAKE</th>\n",
       "    </tr>\n",
       "  </thead>\n",
       "  <tbody>\n",
       "    <tr>\n",
       "      <th>0</th>\n",
       "      <td>Pour les articles homonymes voir Castex</td>\n",
       "    </tr>\n",
       "    <tr>\n",
       "      <th>1</th>\n",
       "      <td>Castex en occitan Castèths est une commune fra...</td>\n",
       "    </tr>\n",
       "    <tr>\n",
       "      <th>2</th>\n",
       "      <td>Sur le plan historique et culturel la commune...</td>\n",
       "    </tr>\n",
       "    <tr>\n",
       "      <th>3</th>\n",
       "      <td>Exposée à un climat océanique altéré elle est...</td>\n",
       "    </tr>\n",
       "    <tr>\n",
       "      <th>4</th>\n",
       "      <td>Castex est une commune rurale qui compte 93 h...</td>\n",
       "    </tr>\n",
       "  </tbody>\n",
       "</table>\n",
       "</div>"
      ],
      "text/plain": [
       "                                                FAKE\n",
       "0            Pour les articles homonymes voir Castex\n",
       "1  Castex en occitan Castèths est une commune fra...\n",
       "2   Sur le plan historique et culturel la commune...\n",
       "3   Exposée à un climat océanique altéré elle est...\n",
       "4   Castex est une commune rurale qui compte 93 h..."
      ]
     },
     "execution_count": 4,
     "metadata": {},
     "output_type": "execute_result"
    }
   ],
   "source": [
    "fake_sentences.head()"
   ]
  },
  {
   "cell_type": "code",
   "execution_count": 5,
   "id": "098604ef",
   "metadata": {},
   "outputs": [
    {
     "name": "stdout",
     "output_type": "stream",
     "text": [
      "Je veux savoir comment me rendre vers {{ARRIVAL}} en partant de {{DEPARTURE}}\n",
      "  Laltitude du territoire varie entre 248 m et 394 m\n"
     ]
    }
   ],
   "source": [
    "print(travel_sentences['TRAVEL'].iloc[19])\n",
    "print(fake_sentences['FAKE'].iloc[19])"
   ]
  },
  {
   "cell_type": "code",
   "execution_count": 6,
   "id": "65c1dee8",
   "metadata": {},
   "outputs": [],
   "source": [
    "def addLabel(pd, label):\n",
    "    for index, row in pd.iterrows():\n",
    "        X.append(row[label])\n",
    "        Y.append(label)"
   ]
  },
  {
   "cell_type": "code",
   "execution_count": 7,
   "id": "591d450e",
   "metadata": {},
   "outputs": [],
   "source": [
    "X = []\n",
    "Y = []\n",
    "\n",
    "addLabel(travel_sentences, TRAVEL_SENTENCES_TYPE)\n",
    "addLabel(fake_sentences, FAKE_SENTENCES_TYPE)"
   ]
  },
  {
   "cell_type": "code",
   "execution_count": 8,
   "id": "f3cca23d",
   "metadata": {},
   "outputs": [
    {
     "name": "stdout",
     "output_type": "stream",
     "text": [
      "Je veux savoir comment aller à {{ARRIVAL}} en partant de {{DEPARTURE}}\n",
      " Begović est en outre accusé davoir participé à des passages à tabac avec dautres gardes qui ont causé la mort de plusieurs détenus\n",
      "105618\n"
     ]
    }
   ],
   "source": [
    "print(X[1])\n",
    "print(X[-1])\n",
    "print(len(X))"
   ]
  },
  {
   "cell_type": "code",
   "execution_count": 9,
   "id": "1eba12fe",
   "metadata": {},
   "outputs": [
    {
     "name": "stdout",
     "output_type": "stream",
     "text": [
      "TRAVEL\n",
      "FAKE\n",
      "105618\n"
     ]
    }
   ],
   "source": [
    "print(Y[1])\n",
    "print(Y[-1])\n",
    "print(len(Y))"
   ]
  },
  {
   "cell_type": "code",
   "execution_count": 10,
   "id": "16173f66",
   "metadata": {},
   "outputs": [],
   "source": [
    "X_train, X_test, Y_train, Y_test = train_test_split(X,Y,test_size=0.2,random_state=0)"
   ]
  },
  {
   "cell_type": "code",
   "execution_count": 11,
   "id": "253ffe37",
   "metadata": {},
   "outputs": [
    {
     "name": "stdout",
     "output_type": "stream",
     "text": [
      "Les 2400 officiers de police assermentés de lAPD sont armés de pistolet semiautomatique Smith  Wesson MP40 depuis 2011\n",
      "FAKE\n"
     ]
    }
   ],
   "source": [
    "index = 15209\n",
    "print(X_train[index])\n",
    "print(Y_train[index])"
   ]
  },
  {
   "cell_type": "code",
   "execution_count": 12,
   "id": "b8ab48a7",
   "metadata": {},
   "outputs": [
    {
     "name": "stdout",
     "output_type": "stream",
     "text": [
      "Train length X : 84494\n",
      "Train length Y : 84494\n",
      "Test length X : 21124\n",
      "Test length Y : 21124\n"
     ]
    }
   ],
   "source": [
    "print('Train length X :',len(X_train))\n",
    "print('Train length Y :',len(Y_train))\n",
    "\n",
    "print('Test length X :',len(X_test))\n",
    "print('Test length Y :',len(Y_test))"
   ]
  },
  {
   "cell_type": "markdown",
   "id": "e4f392f1",
   "metadata": {},
   "source": [
    "# Model"
   ]
  },
  {
   "cell_type": "code",
   "execution_count": 13,
   "id": "2d00c933",
   "metadata": {},
   "outputs": [],
   "source": [
    "training_set = pd.DataFrame({'X': X_train, 'Y': Y_train})\n",
    "vectorizer = CountVectorizer()\n",
    "counts = vectorizer.fit_transform(training_set['X'].values)"
   ]
  },
  {
   "cell_type": "code",
   "execution_count": 14,
   "id": "3e7bff07",
   "metadata": {},
   "outputs": [
    {
     "data": {
      "text/plain": [
       "MultinomialNB()"
      ]
     },
     "execution_count": 14,
     "metadata": {},
     "output_type": "execute_result"
    }
   ],
   "source": [
    "classifier = MultinomialNB()\n",
    "targets = training_set['Y'].values\n",
    "classifier.fit(counts, targets)"
   ]
  },
  {
   "cell_type": "code",
   "execution_count": 15,
   "id": "0164354c",
   "metadata": {},
   "outputs": [
    {
     "name": "stdout",
     "output_type": "stream",
     "text": [
      "['TRAVEL' 'FAKE']\n"
     ]
    }
   ],
   "source": [
    "examples = [\"comment me rendre de Paris à Brest\", \"j'aime le fromage\"]\n",
    "example_counts = vectorizer.transform(examples)\n",
    "predictions = classifier.predict(example_counts)\n",
    "print(predictions)"
   ]
  },
  {
   "cell_type": "markdown",
   "id": "fd3b8cb3",
   "metadata": {},
   "source": [
    "# Result"
   ]
  },
  {
   "cell_type": "code",
   "execution_count": 16,
   "id": "3790ecc3",
   "metadata": {},
   "outputs": [],
   "source": [
    "X_test_vectorized = vectorizer.transform(X_test)\n",
    "y_pred = classifier.predict(X_test_vectorized)"
   ]
  },
  {
   "cell_type": "code",
   "execution_count": 17,
   "id": "2883ee00",
   "metadata": {},
   "outputs": [
    {
     "name": "stdout",
     "output_type": "stream",
     "text": [
      "['FAKE' 'FAKE' 'TRAVEL' ... 'FAKE' 'FAKE' 'TRAVEL']\n"
     ]
    }
   ],
   "source": [
    "print(y_pred)"
   ]
  },
  {
   "cell_type": "code",
   "execution_count": 18,
   "id": "80c14461",
   "metadata": {},
   "outputs": [
    {
     "name": "stdout",
     "output_type": "stream",
     "text": [
      "Accuracy for test 0.9996686233667866\n"
     ]
    }
   ],
   "source": [
    "acc_test = metrics.accuracy_score(Y_test, y_pred)\n",
    "print('Accuracy for test',acc_test)"
   ]
  },
  {
   "cell_type": "code",
   "execution_count": 19,
   "id": "6a09781b",
   "metadata": {},
   "outputs": [
    {
     "data": {
      "text/plain": [
       "<sklearn.metrics._plot.confusion_matrix.ConfusionMatrixDisplay at 0x7fde4228d5b0>"
      ]
     },
     "execution_count": 19,
     "metadata": {},
     "output_type": "execute_result"
    },
    {
     "data": {
      "image/png": "[encoded data removed]",
      "text/plain": [
       "<Figure size 432x288 with 2 Axes>"
      ]
     },
     "metadata": {
      "needs_background": "light"
     },
     "output_type": "display_data"
    }
   ],
   "source": [
    "ConfusionMatrixDisplay.from_estimator(classifier, X_test_vectorized, Y_test, cmap=plt.cm.Blues)"
   ]
  }
 ],
 "metadata": {
  "kernelspec": {
   "display_name": "Python 3 (ipykernel)",
   "language": "python",
   "name": "python3"
  },
  "language_info": {
   "codemirror_mode": {
    "name": "ipython",
    "version": 3
   },
   "file_extension": ".py",
   "mimetype": "text/x-python",
   "name": "python",
   "nbconvert_exporter": "python",
   "pygments_lexer": "ipython3",
   "version": "3.9.12"
  }
 },
 "nbformat": 4,
 "nbformat_minor": 5
}
