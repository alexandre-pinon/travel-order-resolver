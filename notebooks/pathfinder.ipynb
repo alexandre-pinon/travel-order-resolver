{
 "cells": [
  {
   "cell_type": "markdown",
   "metadata": {},
   "source": [
    "# Imports"
   ]
  },
  {
   "cell_type": "code",
   "execution_count": 1,
   "metadata": {},
   "outputs": [],
   "source": [
    "import pandas as pd\n",
    "import networkx as nx\n",
    "\n",
    "from pyvis.network import Network"
   ]
  },
  {
   "cell_type": "markdown",
   "metadata": {},
   "source": [
    "# Data vizualisation"
   ]
  },
  {
   "cell_type": "code",
   "execution_count": 2,
   "metadata": {},
   "outputs": [
    {
     "data": {
      "text/html": [
       "<div>\n",
       "<style scoped>\n",
       "    .dataframe tbody tr th:only-of-type {\n",
       "        vertical-align: middle;\n",
       "    }\n",
       "\n",
       "    .dataframe tbody tr th {\n",
       "        vertical-align: top;\n",
       "    }\n",
       "\n",
       "    .dataframe thead th {\n",
       "        text-align: right;\n",
       "    }\n",
       "</style>\n",
       "<table border=\"1\" class=\"dataframe\">\n",
       "  <thead>\n",
       "    <tr style=\"text-align: right;\">\n",
       "      <th></th>\n",
       "      <th>trip_id</th>\n",
       "      <th>trajet</th>\n",
       "      <th>duree</th>\n",
       "    </tr>\n",
       "  </thead>\n",
       "  <tbody>\n",
       "    <tr>\n",
       "      <th>0</th>\n",
       "      <td>OCESN003100F140147152</td>\n",
       "      <td>Gare de Le Havre - Gare de Paris-St-Lazare</td>\n",
       "      <td>138</td>\n",
       "    </tr>\n",
       "    <tr>\n",
       "      <th>1</th>\n",
       "      <td>OCESN003190F040047309</td>\n",
       "      <td>Gare de Dieppe - Gare de Paris-St-Lazare</td>\n",
       "      <td>145</td>\n",
       "    </tr>\n",
       "    <tr>\n",
       "      <th>2</th>\n",
       "      <td>OCESN003198F030037315</td>\n",
       "      <td>Gare de Paris-St-Lazare - Gare de Rouen-Rive-D...</td>\n",
       "      <td>97</td>\n",
       "    </tr>\n",
       "    <tr>\n",
       "      <th>3</th>\n",
       "      <td>OCESN003300F030037323</td>\n",
       "      <td>Gare de Cherbourg - Gare de Paris-St-Lazare</td>\n",
       "      <td>194</td>\n",
       "    </tr>\n",
       "    <tr>\n",
       "      <th>4</th>\n",
       "      <td>OCESN003313F380387526</td>\n",
       "      <td>Gare de Caen - Gare de Paris-St-Lazare</td>\n",
       "      <td>149</td>\n",
       "    </tr>\n",
       "    <tr>\n",
       "      <th>...</th>\n",
       "      <td>...</td>\n",
       "      <td>...</td>\n",
       "      <td>...</td>\n",
       "    </tr>\n",
       "    <tr>\n",
       "      <th>1570</th>\n",
       "      <td>OCESN895822F0500552575</td>\n",
       "      <td>Gare de Belfort-Ville - Gare de Lyon-Perrache</td>\n",
       "      <td>244</td>\n",
       "    </tr>\n",
       "    <tr>\n",
       "      <th>1571</th>\n",
       "      <td>OCESN895830F0200252600</td>\n",
       "      <td>Gare de Lons-le-Saunier - Gare de Lyon-Perrache</td>\n",
       "      <td>103</td>\n",
       "    </tr>\n",
       "    <tr>\n",
       "      <th>1572</th>\n",
       "      <td>OCESN895880F0500552634</td>\n",
       "      <td>Gare de Belfort-Ville - Gare de Lons-le-Saunier</td>\n",
       "      <td>144</td>\n",
       "    </tr>\n",
       "    <tr>\n",
       "      <th>1573</th>\n",
       "      <td>OCESN895940F0200252654</td>\n",
       "      <td>Gare de Besançon-Viotte - Gare de Lons-le-Saunier</td>\n",
       "      <td>89</td>\n",
       "    </tr>\n",
       "    <tr>\n",
       "      <th>1574</th>\n",
       "      <td>OCESN895942F0900952655</td>\n",
       "      <td>Gare de Bourg-en-Bresse - Gare de Mouchard</td>\n",
       "      <td>81</td>\n",
       "    </tr>\n",
       "  </tbody>\n",
       "</table>\n",
       "<p>1575 rows × 3 columns</p>\n",
       "</div>"
      ],
      "text/plain": [
       "                     trip_id  \\\n",
       "0      OCESN003100F140147152   \n",
       "1      OCESN003190F040047309   \n",
       "2      OCESN003198F030037315   \n",
       "3      OCESN003300F030037323   \n",
       "4      OCESN003313F380387526   \n",
       "...                      ...   \n",
       "1570  OCESN895822F0500552575   \n",
       "1571  OCESN895830F0200252600   \n",
       "1572  OCESN895880F0500552634   \n",
       "1573  OCESN895940F0200252654   \n",
       "1574  OCESN895942F0900952655   \n",
       "\n",
       "                                                 trajet  duree  \n",
       "0            Gare de Le Havre - Gare de Paris-St-Lazare    138  \n",
       "1              Gare de Dieppe - Gare de Paris-St-Lazare    145  \n",
       "2     Gare de Paris-St-Lazare - Gare de Rouen-Rive-D...     97  \n",
       "3           Gare de Cherbourg - Gare de Paris-St-Lazare    194  \n",
       "4                Gare de Caen - Gare de Paris-St-Lazare    149  \n",
       "...                                                 ...    ...  \n",
       "1570      Gare de Belfort-Ville - Gare de Lyon-Perrache    244  \n",
       "1571    Gare de Lons-le-Saunier - Gare de Lyon-Perrache    103  \n",
       "1572    Gare de Belfort-Ville - Gare de Lons-le-Saunier    144  \n",
       "1573  Gare de Besançon-Viotte - Gare de Lons-le-Saunier     89  \n",
       "1574         Gare de Bourg-en-Bresse - Gare de Mouchard     81  \n",
       "\n",
       "[1575 rows x 3 columns]"
      ]
     },
     "execution_count": 2,
     "metadata": {},
     "output_type": "execute_result"
    }
   ],
   "source": [
    "timetables = pd.read_csv(\"../data/timetables.csv\", sep=\"\\t\")\n",
    "timetables"
   ]
  },
  {
   "cell_type": "markdown",
   "metadata": {},
   "source": [
    "## Basic graph "
   ]
  },
  {
   "cell_type": "code",
   "execution_count": 3,
   "metadata": {},
   "outputs": [],
   "source": [
    "timetables['source'] = timetables['trajet'].map(lambda x: x.split(\" - \")[0])\n",
    "timetables['target'] = timetables['trajet'].map(lambda x: x.split(\" - \")[1])"
   ]
  },
  {
   "cell_type": "code",
   "execution_count": 4,
   "metadata": {},
   "outputs": [],
   "source": [
    "graph = nx.from_pandas_edgelist(df=timetables, edge_attr=\"duree\")"
   ]
  },
  {
   "cell_type": "code",
   "execution_count": 6,
   "metadata": {},
   "outputs": [],
   "source": [
    "net = Network(height=\"100vh\")\n",
    "net.from_nx(graph)\n",
    "net.show(\"../graphs/basic_graph.html\")"
   ]
  },
  {
   "cell_type": "code",
   "execution_count": null,
   "metadata": {},
   "outputs": [],
   "source": []
  }
 ],
 "metadata": {
  "kernelspec": {
   "display_name": "Python 3.8.10 ('travel-order-resolver')",
   "language": "python",
   "name": "python3"
  },
  "language_info": {
   "codemirror_mode": {
    "name": "ipython",
    "version": 3
   },
   "file_extension": ".py",
   "mimetype": "text/x-python",
   "name": "python",
   "nbconvert_exporter": "python",
   "pygments_lexer": "ipython3",
   "version": "3.8.10"
  },
  "orig_nbformat": 4,
  "vscode": {
   "interpreter": {
    "hash": "15b4b31f85b73d8a81dcb7c63cf4da29abe4fbbe08dcf07137055dca3b2f7cc2"
   }
  }
 },
 "nbformat": 4,
 "nbformat_minor": 2
}
